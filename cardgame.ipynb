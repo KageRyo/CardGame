{
  "nbformat": 4,
  "nbformat_minor": 0,
  "metadata": {
    "colab": {
      "provenance": [],
      "collapsed_sections": [],
      "authorship_tag": "ABX9TyMucRdg3axGMxnZY1cntWt8",
      "include_colab_link": true
    },
    "kernelspec": {
      "name": "python3",
      "display_name": "Python 3"
    },
    "language_info": {
      "name": "python"
    },
    "widgets": {
      "application/vnd.jupyter.widget-state+json": {
        "847be1946b484c3d87af7b62ad7ab22e": {
          "model_module": "@jupyter-widgets/controls",
          "model_name": "HBoxModel",
          "model_module_version": "1.5.0",
          "state": {
            "_dom_classes": [],
            "_model_module": "@jupyter-widgets/controls",
            "_model_module_version": "1.5.0",
            "_model_name": "HBoxModel",
            "_view_count": null,
            "_view_module": "@jupyter-widgets/controls",
            "_view_module_version": "1.5.0",
            "_view_name": "HBoxView",
            "box_style": "",
            "children": [
              "IPY_MODEL_e21a06debd2247cd96b64cad5d214520",
              "IPY_MODEL_77d3f6b01f4c4ba7851f05c747dc2420",
              "IPY_MODEL_1781f2728a6d43029c3fb63a83cd0681"
            ],
            "layout": "IPY_MODEL_17d87949671e4f1bbbc727b289cc8cd1"
          }
        },
        "e21a06debd2247cd96b64cad5d214520": {
          "model_module": "@jupyter-widgets/controls",
          "model_name": "ButtonModel",
          "model_module_version": "1.5.0",
          "state": {
            "_dom_classes": [],
            "_model_module": "@jupyter-widgets/controls",
            "_model_module_version": "1.5.0",
            "_model_name": "ButtonModel",
            "_view_count": null,
            "_view_module": "@jupyter-widgets/controls",
            "_view_module_version": "1.5.0",
            "_view_name": "ButtonView",
            "button_style": "",
            "description": "A-6(小)",
            "disabled": false,
            "icon": "",
            "layout": "IPY_MODEL_8fa35adc44a443f78da8546c13bc9e1e",
            "style": "IPY_MODEL_39f6fa374ff94745ae7ac1310658622e",
            "tooltip": ""
          }
        },
        "77d3f6b01f4c4ba7851f05c747dc2420": {
          "model_module": "@jupyter-widgets/controls",
          "model_name": "ButtonModel",
          "model_module_version": "1.5.0",
          "state": {
            "_dom_classes": [],
            "_model_module": "@jupyter-widgets/controls",
            "_model_module_version": "1.5.0",
            "_model_name": "ButtonModel",
            "_view_count": null,
            "_view_module": "@jupyter-widgets/controls",
            "_view_module_version": "1.5.0",
            "_view_name": "ButtonView",
            "button_style": "",
            "description": "lucky 7",
            "disabled": false,
            "icon": "",
            "layout": "IPY_MODEL_af0f161a5ba14fae9dc60a185e13c7c0",
            "style": "IPY_MODEL_a306d6a6d8a54e91a3170f1b53553a69",
            "tooltip": ""
          }
        },
        "1781f2728a6d43029c3fb63a83cd0681": {
          "model_module": "@jupyter-widgets/controls",
          "model_name": "ButtonModel",
          "model_module_version": "1.5.0",
          "state": {
            "_dom_classes": [],
            "_model_module": "@jupyter-widgets/controls",
            "_model_module_version": "1.5.0",
            "_model_name": "ButtonModel",
            "_view_count": null,
            "_view_module": "@jupyter-widgets/controls",
            "_view_module_version": "1.5.0",
            "_view_name": "ButtonView",
            "button_style": "",
            "description": "8-K(大)",
            "disabled": false,
            "icon": "",
            "layout": "IPY_MODEL_0c468eaf3b364354a66f66be08e93b65",
            "style": "IPY_MODEL_5fabefd9fe82438f8bf903c5e2f3aa72",
            "tooltip": ""
          }
        },
        "17d87949671e4f1bbbc727b289cc8cd1": {
          "model_module": "@jupyter-widgets/base",
          "model_name": "LayoutModel",
          "model_module_version": "1.2.0",
          "state": {
            "_model_module": "@jupyter-widgets/base",
            "_model_module_version": "1.2.0",
            "_model_name": "LayoutModel",
            "_view_count": null,
            "_view_module": "@jupyter-widgets/base",
            "_view_module_version": "1.2.0",
            "_view_name": "LayoutView",
            "align_content": null,
            "align_items": null,
            "align_self": null,
            "border": null,
            "bottom": null,
            "display": null,
            "flex": null,
            "flex_flow": null,
            "grid_area": null,
            "grid_auto_columns": null,
            "grid_auto_flow": null,
            "grid_auto_rows": null,
            "grid_column": null,
            "grid_gap": null,
            "grid_row": null,
            "grid_template_areas": null,
            "grid_template_columns": null,
            "grid_template_rows": null,
            "height": null,
            "justify_content": null,
            "justify_items": null,
            "left": null,
            "margin": null,
            "max_height": null,
            "max_width": null,
            "min_height": null,
            "min_width": null,
            "object_fit": null,
            "object_position": null,
            "order": null,
            "overflow": null,
            "overflow_x": null,
            "overflow_y": null,
            "padding": null,
            "right": null,
            "top": null,
            "visibility": null,
            "width": null
          }
        },
        "8fa35adc44a443f78da8546c13bc9e1e": {
          "model_module": "@jupyter-widgets/base",
          "model_name": "LayoutModel",
          "model_module_version": "1.2.0",
          "state": {
            "_model_module": "@jupyter-widgets/base",
            "_model_module_version": "1.2.0",
            "_model_name": "LayoutModel",
            "_view_count": null,
            "_view_module": "@jupyter-widgets/base",
            "_view_module_version": "1.2.0",
            "_view_name": "LayoutView",
            "align_content": null,
            "align_items": null,
            "align_self": null,
            "border": null,
            "bottom": null,
            "display": null,
            "flex": null,
            "flex_flow": null,
            "grid_area": null,
            "grid_auto_columns": null,
            "grid_auto_flow": null,
            "grid_auto_rows": null,
            "grid_column": null,
            "grid_gap": null,
            "grid_row": null,
            "grid_template_areas": null,
            "grid_template_columns": null,
            "grid_template_rows": null,
            "height": null,
            "justify_content": null,
            "justify_items": null,
            "left": null,
            "margin": null,
            "max_height": null,
            "max_width": null,
            "min_height": null,
            "min_width": null,
            "object_fit": null,
            "object_position": null,
            "order": null,
            "overflow": null,
            "overflow_x": null,
            "overflow_y": null,
            "padding": null,
            "right": null,
            "top": null,
            "visibility": null,
            "width": null
          }
        },
        "39f6fa374ff94745ae7ac1310658622e": {
          "model_module": "@jupyter-widgets/controls",
          "model_name": "ButtonStyleModel",
          "model_module_version": "1.5.0",
          "state": {
            "_model_module": "@jupyter-widgets/controls",
            "_model_module_version": "1.5.0",
            "_model_name": "ButtonStyleModel",
            "_view_count": null,
            "_view_module": "@jupyter-widgets/base",
            "_view_module_version": "1.2.0",
            "_view_name": "StyleView",
            "button_color": null,
            "font_weight": ""
          }
        },
        "af0f161a5ba14fae9dc60a185e13c7c0": {
          "model_module": "@jupyter-widgets/base",
          "model_name": "LayoutModel",
          "model_module_version": "1.2.0",
          "state": {
            "_model_module": "@jupyter-widgets/base",
            "_model_module_version": "1.2.0",
            "_model_name": "LayoutModel",
            "_view_count": null,
            "_view_module": "@jupyter-widgets/base",
            "_view_module_version": "1.2.0",
            "_view_name": "LayoutView",
            "align_content": null,
            "align_items": null,
            "align_self": null,
            "border": null,
            "bottom": null,
            "display": null,
            "flex": null,
            "flex_flow": null,
            "grid_area": null,
            "grid_auto_columns": null,
            "grid_auto_flow": null,
            "grid_auto_rows": null,
            "grid_column": null,
            "grid_gap": null,
            "grid_row": null,
            "grid_template_areas": null,
            "grid_template_columns": null,
            "grid_template_rows": null,
            "height": null,
            "justify_content": null,
            "justify_items": null,
            "left": null,
            "margin": null,
            "max_height": null,
            "max_width": null,
            "min_height": null,
            "min_width": null,
            "object_fit": null,
            "object_position": null,
            "order": null,
            "overflow": null,
            "overflow_x": null,
            "overflow_y": null,
            "padding": null,
            "right": null,
            "top": null,
            "visibility": null,
            "width": null
          }
        },
        "a306d6a6d8a54e91a3170f1b53553a69": {
          "model_module": "@jupyter-widgets/controls",
          "model_name": "ButtonStyleModel",
          "model_module_version": "1.5.0",
          "state": {
            "_model_module": "@jupyter-widgets/controls",
            "_model_module_version": "1.5.0",
            "_model_name": "ButtonStyleModel",
            "_view_count": null,
            "_view_module": "@jupyter-widgets/base",
            "_view_module_version": "1.2.0",
            "_view_name": "StyleView",
            "button_color": null,
            "font_weight": ""
          }
        },
        "0c468eaf3b364354a66f66be08e93b65": {
          "model_module": "@jupyter-widgets/base",
          "model_name": "LayoutModel",
          "model_module_version": "1.2.0",
          "state": {
            "_model_module": "@jupyter-widgets/base",
            "_model_module_version": "1.2.0",
            "_model_name": "LayoutModel",
            "_view_count": null,
            "_view_module": "@jupyter-widgets/base",
            "_view_module_version": "1.2.0",
            "_view_name": "LayoutView",
            "align_content": null,
            "align_items": null,
            "align_self": null,
            "border": null,
            "bottom": null,
            "display": null,
            "flex": null,
            "flex_flow": null,
            "grid_area": null,
            "grid_auto_columns": null,
            "grid_auto_flow": null,
            "grid_auto_rows": null,
            "grid_column": null,
            "grid_gap": null,
            "grid_row": null,
            "grid_template_areas": null,
            "grid_template_columns": null,
            "grid_template_rows": null,
            "height": null,
            "justify_content": null,
            "justify_items": null,
            "left": null,
            "margin": null,
            "max_height": null,
            "max_width": null,
            "min_height": null,
            "min_width": null,
            "object_fit": null,
            "object_position": null,
            "order": null,
            "overflow": null,
            "overflow_x": null,
            "overflow_y": null,
            "padding": null,
            "right": null,
            "top": null,
            "visibility": null,
            "width": null
          }
        },
        "5fabefd9fe82438f8bf903c5e2f3aa72": {
          "model_module": "@jupyter-widgets/controls",
          "model_name": "ButtonStyleModel",
          "model_module_version": "1.5.0",
          "state": {
            "_model_module": "@jupyter-widgets/controls",
            "_model_module_version": "1.5.0",
            "_model_name": "ButtonStyleModel",
            "_view_count": null,
            "_view_module": "@jupyter-widgets/base",
            "_view_module_version": "1.2.0",
            "_view_name": "StyleView",
            "button_color": null,
            "font_weight": ""
          }
        },
        "c5e9bbcd4391457a87df04ec3fa7099c": {
          "model_module": "@jupyter-widgets/output",
          "model_name": "OutputModel",
          "model_module_version": "1.0.0",
          "state": {
            "_dom_classes": [],
            "_model_module": "@jupyter-widgets/output",
            "_model_module_version": "1.0.0",
            "_model_name": "OutputModel",
            "_view_count": null,
            "_view_module": "@jupyter-widgets/output",
            "_view_module_version": "1.0.0",
            "_view_name": "OutputView",
            "layout": "IPY_MODEL_3e4a7be9c52148b99bdbfcc827d75b9c",
            "msg_id": "",
            "outputs": [
              {
                "output_type": "stream",
                "name": "stdout",
                "text": [
                  "取得牌卡 ♦1 \t點擊了 A-6(小)\t目前得分 1\n"
                ]
              },
              {
                "output_type": "stream",
                "name": "stdout",
                "text": [
                  "取得牌卡 ♠2 \t點擊了 A-6(小)\t目前得分 2\n"
                ]
              },
              {
                "output_type": "stream",
                "name": "stdout",
                "text": [
                  "取得牌卡 ♠1 \t點擊了 A-6(小)\t目前得分 3\n"
                ]
              },
              {
                "output_type": "stream",
                "name": "stdout",
                "text": [
                  "取得牌卡 ♦10\t點擊了 A-6(小)\t目前得分 3\n"
                ]
              },
              {
                "output_type": "stream",
                "name": "stdout",
                "text": [
                  "取得牌卡 ♣8 \t點擊了 A-6(小)\t目前得分 3\n"
                ]
              },
              {
                "output_type": "stream",
                "name": "stdout",
                "text": [
                  "取得牌卡 ♦12\t點擊了 A-6(小)\t目前得分 3\n"
                ]
              },
              {
                "output_type": "stream",
                "name": "stdout",
                "text": [
                  "取得牌卡 ♣8 \t點擊了 A-6(小)\t目前得分 3\n"
                ]
              },
              {
                "output_type": "stream",
                "name": "stdout",
                "text": [
                  "取得牌卡 ♠2 \t點擊了 A-6(小)\t目前得分 4\n"
                ]
              },
              {
                "output_type": "stream",
                "name": "stdout",
                "text": [
                  "取得牌卡 ♦9 \t點擊了 A-6(小)\t目前得分 4\n"
                ]
              },
              {
                "output_type": "stream",
                "name": "stdout",
                "text": [
                  "取得牌卡 ♠10\t點擊了 lucky 7\t目前得分 4\n"
                ]
              },
              {
                "output_type": "stream",
                "name": "stdout",
                "text": [
                  "取得牌卡 ♦3 \t點擊了 lucky 7\t目前得分 4\n"
                ]
              },
              {
                "output_type": "stream",
                "name": "stdout",
                "text": [
                  "取得牌卡 ♥12\t點擊了 lucky 7\t目前得分 4\n"
                ]
              },
              {
                "output_type": "stream",
                "name": "stdout",
                "text": [
                  "取得牌卡 ♠8 \t點擊了 lucky 7\t目前得分 4\n"
                ]
              },
              {
                "output_type": "stream",
                "name": "stdout",
                "text": [
                  "取得牌卡 ♥13\t點擊了 lucky 7\t目前得分 4\n"
                ]
              },
              {
                "output_type": "stream",
                "name": "stdout",
                "text": [
                  "取得牌卡 ♠4 \t點擊了 lucky 7\t目前得分 4\n"
                ]
              },
              {
                "output_type": "stream",
                "name": "stdout",
                "text": [
                  "取得牌卡 ♠7 \t點擊了 lucky 7\t目前得分 14\n"
                ]
              },
              {
                "output_type": "stream",
                "name": "stdout",
                "text": [
                  "取得牌卡 ♣9 \t點擊了 lucky 7\t目前得分 14\n"
                ]
              },
              {
                "output_type": "stream",
                "name": "stdout",
                "text": [
                  "取得牌卡 ♥12\t點擊了 8-K(大)\t目前得分 15\n"
                ]
              },
              {
                "output_type": "stream",
                "name": "stdout",
                "text": [
                  "取得牌卡 ♥11\t點擊了 8-K(大)\t目前得分 16\n"
                ]
              },
              {
                "output_type": "stream",
                "name": "stdout",
                "text": [
                  "取得牌卡 ♣3 \t點擊了 8-K(大)\t目前得分 16\n"
                ]
              },
              {
                "output_type": "stream",
                "name": "stdout",
                "text": [
                  "取得牌卡 ♥2 \t點擊了 8-K(大)\t目前得分 16\n"
                ]
              },
              {
                "output_type": "stream",
                "name": "stdout",
                "text": [
                  "取得牌卡 ♦7 \t點擊了 8-K(大)\t目前得分 16\n"
                ]
              },
              {
                "output_type": "stream",
                "name": "stdout",
                "text": [
                  "取得牌卡 ♦10\t點擊了 8-K(大)\t目前得分 17\n"
                ]
              },
              {
                "output_type": "stream",
                "name": "stdout",
                "text": [
                  "取得牌卡 ♦13\t點擊了 8-K(大)\t目前得分 18\n"
                ]
              },
              {
                "output_type": "stream",
                "name": "stdout",
                "text": [
                  "取得牌卡 ♣13\t點擊了 lucky 7\t目前得分 18\n"
                ]
              },
              {
                "output_type": "stream",
                "name": "stdout",
                "text": [
                  "取得牌卡 ♦11\t點擊了 lucky 7\t目前得分 18\n"
                ]
              },
              {
                "output_type": "stream",
                "name": "stdout",
                "text": [
                  "取得牌卡 ♥2 \t點擊了 lucky 7\t目前得分 18\n"
                ]
              },
              {
                "output_type": "stream",
                "name": "stdout",
                "text": [
                  "取得牌卡 ♣10\t點擊了 lucky 7\t目前得分 18\n"
                ]
              },
              {
                "output_type": "stream",
                "name": "stdout",
                "text": [
                  "取得牌卡 ♥9 \t點擊了 8-K(大)\t目前得分 19\n"
                ]
              },
              {
                "output_type": "stream",
                "name": "stdout",
                "text": [
                  "取得牌卡 ♥5 \t點擊了 8-K(大)\t目前得分 19\n"
                ]
              },
              {
                "output_type": "stream",
                "name": "stdout",
                "text": [
                  "取得牌卡 ♥1 \t點擊了 A-6(小)\t目前得分 20\n"
                ]
              },
              {
                "output_type": "stream",
                "name": "stdout",
                "text": [
                  "取得牌卡 ♠10\t點擊了 A-6(小)\t目前得分 20\n"
                ]
              }
            ]
          }
        },
        "3e4a7be9c52148b99bdbfcc827d75b9c": {
          "model_module": "@jupyter-widgets/base",
          "model_name": "LayoutModel",
          "model_module_version": "1.2.0",
          "state": {
            "_model_module": "@jupyter-widgets/base",
            "_model_module_version": "1.2.0",
            "_model_name": "LayoutModel",
            "_view_count": null,
            "_view_module": "@jupyter-widgets/base",
            "_view_module_version": "1.2.0",
            "_view_name": "LayoutView",
            "align_content": null,
            "align_items": null,
            "align_self": null,
            "border": null,
            "bottom": null,
            "display": null,
            "flex": null,
            "flex_flow": null,
            "grid_area": null,
            "grid_auto_columns": null,
            "grid_auto_flow": null,
            "grid_auto_rows": null,
            "grid_column": null,
            "grid_gap": null,
            "grid_row": null,
            "grid_template_areas": null,
            "grid_template_columns": null,
            "grid_template_rows": null,
            "height": null,
            "justify_content": null,
            "justify_items": null,
            "left": null,
            "margin": null,
            "max_height": null,
            "max_width": null,
            "min_height": null,
            "min_width": null,
            "object_fit": null,
            "object_position": null,
            "order": null,
            "overflow": null,
            "overflow_x": null,
            "overflow_y": null,
            "padding": null,
            "right": null,
            "top": null,
            "visibility": null,
            "width": null
          }
        }
      }
    }
  },
  "cells": [
    {
      "cell_type": "markdown",
      "metadata": {
        "id": "view-in-github",
        "colab_type": "text"
      },
      "source": [
        "<a href=\"https://colab.research.google.com/github/KageRyo/CardGame/blob/main/cardgame.ipynb\" target=\"_parent\"><img src=\"https://colab.research.google.com/assets/colab-badge.svg\" alt=\"Open In Colab\"/></a>"
      ]
    },
    {
      "cell_type": "code",
      "execution_count": null,
      "metadata": {
        "colab": {
          "base_uri": "https://localhost:8080/",
          "height": 604,
          "referenced_widgets": [
            "847be1946b484c3d87af7b62ad7ab22e",
            "e21a06debd2247cd96b64cad5d214520",
            "77d3f6b01f4c4ba7851f05c747dc2420",
            "1781f2728a6d43029c3fb63a83cd0681",
            "17d87949671e4f1bbbc727b289cc8cd1",
            "8fa35adc44a443f78da8546c13bc9e1e",
            "39f6fa374ff94745ae7ac1310658622e",
            "af0f161a5ba14fae9dc60a185e13c7c0",
            "a306d6a6d8a54e91a3170f1b53553a69",
            "0c468eaf3b364354a66f66be08e93b65",
            "5fabefd9fe82438f8bf903c5e2f3aa72",
            "c5e9bbcd4391457a87df04ec3fa7099c",
            "3e4a7be9c52148b99bdbfcc827d75b9c"
          ]
        },
        "id": "70mxS5nrDse1",
        "outputId": "9a53f36b-e0bd-41ea-a130-506cdf100bfb"
      },
      "outputs": [
        {
          "output_type": "display_data",
          "data": {
            "text/plain": [
              "HBox(children=(Button(description='A-6(小)', style=ButtonStyle()), Button(description='lucky 7', style=ButtonSt…"
            ],
            "application/vnd.jupyter.widget-view+json": {
              "version_major": 2,
              "version_minor": 0,
              "model_id": "847be1946b484c3d87af7b62ad7ab22e"
            }
          },
          "metadata": {}
        },
        {
          "output_type": "display_data",
          "data": {
            "text/plain": [
              "Output()"
            ],
            "application/vnd.jupyter.widget-view+json": {
              "version_major": 2,
              "version_minor": 0,
              "model_id": "c5e9bbcd4391457a87df04ec3fa7099c"
            }
          },
          "metadata": {}
        }
      ],
      "source": [
        "import random\n",
        "import ipywidgets as widgets\n",
        "from ipywidgets import Button, HBox, Output\n",
        "from IPython.display import display\n",
        "\n",
        "#牌庫基本設定\n",
        "players=[]\n",
        "suitSymbols=['\\u2660','\\u2665','\\u2666','\\u2663']\n",
        "deck=list(range(52))\n",
        "random.shuffle(deck)\n",
        "\n",
        "#洗牌\n",
        "def stringCard(h):\n",
        "  return \"{}{:<2d}\".format(suitSymbols[deck[h]//13],deck[h]%13+1)\n",
        "\n",
        "score=0\n",
        "#按鈕\n",
        "output=Output()\n",
        "def onButtonClicked(b):\n",
        "  with output:\n",
        "    print(\"取得牌卡\",stringCard(0),end='\\t')\n",
        "    print(\"點擊了\",b.description,end='\\t')\n",
        "    global score\n",
        "\n",
        "    #判斷\n",
        "    if b.description==\"A-6(小)\" and deck[0]%13+1<=6:\n",
        "      score+=1\n",
        "    elif b.description==\"8-K(大)\" and deck[0]%13+1>=8:\n",
        "      score+=1\n",
        "    elif b.description==\"lucky 7\" and deck[0]%13+1==7:\n",
        "      score+=10\n",
        "    print(\"目前得分\",score)\n",
        "    random.shuffle(deck)\n",
        "\n",
        "btn1=Button(description=\"A-6(小)\")\n",
        "btn2=Button(description=\"lucky 7\")\n",
        "btn3=Button(description=\"8-K(大)\")\n",
        "btn1.on_click(onButtonClicked)\n",
        "btn2.on_click(onButtonClicked)\n",
        "btn3.on_click(onButtonClicked)\n",
        "ui=HBox([btn1,btn2,btn3])\n",
        "display(ui,output)"
      ]
    }
  ]
}